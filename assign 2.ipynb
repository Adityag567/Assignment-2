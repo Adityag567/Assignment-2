{
 "cells": [
  {
   "cell_type": "code",
   "execution_count": null,
   "id": "64620e03-133c-4735-9093-3103c9abed39",
   "metadata": {},
   "outputs": [],
   "source": [
    "Explain with an example each when to use a for loop and a while loop."
   ]
  },
  {
   "cell_type": "code",
   "execution_count": null,
   "id": "81c3ceb6-70e9-45a5-8f6e-22528df621ea",
   "metadata": {},
   "outputs": [],
   "source": [
    "A for loop is a control flow statement that executes code repeatedly \n",
    "for a particular number of iterations.\n",
    "ex- n =[1,2,3]\n",
    "      for i in n:\n",
    "        print(i)\n",
    "        \n",
    "A  loop that executes a single statement or a group of statements for the given true condition. \n",
    "The keyword used to represent this loop is \"while\".A \"while\" loop is used when the number of \n",
    "iterations is unknown The statement repeats itself till the boolean value becomes false   \n",
    "ex - n = 1\n",
    "      while i < 6:\n",
    "        print(i)\n",
    "         i + 1"
   ]
  },
  {
   "cell_type": "code",
   "execution_count": null,
   "id": "89ae6942-8e0a-4f74-b63e-24873d3d6f77",
   "metadata": {},
   "outputs": [],
   "source": [
    "Write a python program to print the sum and product of the first 10 natural numbers using for\n",
    "and while loop."
   ]
  },
  {
   "cell_type": "code",
   "execution_count": 1,
   "id": "94c74586-e325-4de1-adde-b431b0d8e2f0",
   "metadata": {},
   "outputs": [
    {
     "ename": "IndentationError",
     "evalue": "unexpected indent (4170194394.py, line 11)",
     "output_type": "error",
     "traceback": [
      "\u001b[0;36m  Cell \u001b[0;32mIn[1], line 11\u001b[0;36m\u001b[0m\n\u001b[0;31m    print(prod)\u001b[0m\n\u001b[0m    ^\u001b[0m\n\u001b[0;31mIndentationError\u001b[0m\u001b[0;31m:\u001b[0m unexpected indent\n"
     ]
    }
   ],
   "source": [
    "num = list(range(1,10))\n",
    "sum = 0\n",
    "while(num > 0):\n",
    "    sum += num\n",
    "    num -= 1\n",
    "    print(\"sum\",sum)\n",
    "        \n",
    "prod= 0       \n",
    "for i in range(1,10):\n",
    "    prod=prod*i\n",
    "     print(prod)   \n",
    "    "
   ]
  },
  {
   "cell_type": "code",
   "execution_count": null,
   "id": "3f34872e-fcf7-42ca-b6b4-f57f9108e749",
   "metadata": {},
   "outputs": [],
   "source": [
    "Q3.Create a python program to compute the electricity bill for a household.\n",
    "The per-unit charges in rupees are as follows: For the first 100 units, the user will be charged Rs. 4.5 per\n",
    "unit, for the next 100 units, the user will be charged Rs. 6 per unit, and for the next 100 units, the user will\n",
    "be charged Rs. 10 per unit, After 300 units and above the user will be charged Rs. 20 per unit.\n",
    "You are required to take the units of electricity consumed in a month from the user as input.\n",
    "Your program must pass this test case: when the unit of electricity consumed by the user in a month is\n",
    "310, the total electricity bill should be 2250."
   ]
  },
  {
   "cell_type": "code",
   "execution_count": null,
   "id": "aecad271-0a34-4e1c-8823-df1dda786242",
   "metadata": {},
   "outputs": [],
   "source": [
    "unit=int(input(\"please enter unit\"))\n",
    "if unit<=100:\n",
    "    pay=unit*4.5\n",
    "    fixed=0\n",
    "elif unit<=200:\n",
    "    pay=100*4.5+(unit-100)*6\n",
    "    fixed=0\n",
    "elif unit<=300:\n",
    "    pay=100*4.5+(200-100)*6+(unit-200)*10\n",
    "    fixed=0\n",
    "elif unit<=310:\n",
    "    pay=100*4.5+(200-100)*6+(300-200)*10+(unit-300)*20\n",
    "    fixed=0\n",
    "else:\n",
    "    pay=0\n",
    "    fixed=2250\n",
    "total=pay + fixed   \n",
    "print(\"Electricity bill=%2f\"%total)"
   ]
  },
  {
   "cell_type": "code",
   "execution_count": null,
   "id": "64ab7ffc-c9e6-4f1f-a146-6eaf6ad06a3b",
   "metadata": {},
   "outputs": [],
   "source": [
    "Q4.Create a list of numbers from 1 to 100. Use for loop and while loop to calculate the cube of each\n",
    "number and if the cube of that number is divisible by 4 or 5 then append that number in a list and print\n",
    "that list."
   ]
  },
  {
   "cell_type": "code",
   "execution_count": 18,
   "id": "f386f725-e34d-4f2a-8502-fb5b0ad971c6",
   "metadata": {},
   "outputs": [
    {
     "ename": "TypeError",
     "evalue": "'<=' not supported between instances of 'int' and 'list'",
     "output_type": "error",
     "traceback": [
      "\u001b[0;31m---------------------------------------------------------------------------\u001b[0m",
      "\u001b[0;31mTypeError\u001b[0m                                 Traceback (most recent call last)",
      "Cell \u001b[0;32mIn[18], line 4\u001b[0m\n\u001b[1;32m      2\u001b[0m i\u001b[38;5;241m=\u001b[39m\u001b[38;5;241m0\u001b[39m\n\u001b[1;32m      3\u001b[0m c\u001b[38;5;241m=\u001b[39m\u001b[38;5;241m0\u001b[39m\n\u001b[0;32m----> 4\u001b[0m \u001b[38;5;28;01mwhile\u001b[39;00m \u001b[43mi\u001b[49m\u001b[38;5;241;43m<\u001b[39;49m\u001b[38;5;241;43m=\u001b[39;49m\u001b[43ml\u001b[49m:\n\u001b[1;32m      5\u001b[0m     \u001b[38;5;28;01mif\u001b[39;00m((i\u001b[38;5;241m*\u001b[39m\u001b[38;5;241m*\u001b[39m\u001b[38;5;241m3\u001b[39m)\u001b[38;5;241m/\u001b[39m\u001b[38;5;241m4\u001b[39m \u001b[38;5;129;01mor\u001b[39;00m (i\u001b[38;5;241m*\u001b[39m\u001b[38;5;241m*\u001b[39m\u001b[38;5;241m3\u001b[39m)\u001b[38;5;241m/\u001b[39m\u001b[38;5;241m5\u001b[39m):\n\u001b[1;32m      6\u001b[0m         c\u001b[38;5;241m=\u001b[39mc\u001b[38;5;241m+\u001b[39m\u001b[38;5;241m1\u001b[39m\n",
      "\u001b[0;31mTypeError\u001b[0m: '<=' not supported between instances of 'int' and 'list'"
     ]
    }
   ],
   "source": [
    "l=list(range(1,100))\n",
    "i=0\n",
    "c=0\n",
    "while i<=l:\n",
    "    if((i**3)/4 or (i**3)/5):\n",
    "        c=c+1\n",
    "        i=i+1\n",
    "print(c)\n",
    "\n",
    "   \n",
    "\n"
   ]
  },
  {
   "cell_type": "code",
   "execution_count": 12,
   "id": "ce74a21d-e900-49a0-841c-b51d190c32ab",
   "metadata": {},
   "outputs": [
    {
     "name": "stdout",
     "output_type": "stream",
     "text": [
      "[0.25, 2.0, 6.75, 16.0, 31.25, 54.0, 85.75, 128.0, 182.25, 250.0, 332.75, 432.0, 549.25, 686.0, 843.75, 1024.0, 1228.25, 1458.0, 1714.75, 2000.0, 2315.25, 2662.0, 3041.75, 3456.0, 3906.25, 4394.0, 4920.75, 5488.0, 6097.25, 6750.0, 7447.75, 8192.0, 8984.25, 9826.0, 10718.75, 11664.0, 12663.25, 13718.0, 14829.75, 16000.0, 17230.25, 18522.0, 19876.75, 21296.0, 22781.25, 24334.0, 25955.75, 27648.0, 29412.25, 31250.0, 33162.75, 35152.0, 37219.25, 39366.0, 41593.75, 43904.0, 46298.25, 48778.0, 51344.75, 54000.0, 56745.25, 59582.0, 62511.75, 65536.0, 68656.25, 71874.0, 75190.75, 78608.0, 82127.25, 85750.0, 89477.75, 93312.0, 97254.25, 101306.0, 105468.75, 109744.0, 114133.25, 118638.0, 123259.75, 128000.0, 132860.25, 137842.0, 142946.75, 148176.0, 153531.25, 159014.0, 164625.75, 170368.0, 176242.25, 182250.0, 188392.75, 194672.0, 201089.25, 207646.0, 214343.75, 221184.0, 228168.25, 235298.0, 242574.75]\n"
     ]
    }
   ],
   "source": [
    "l=list(range(1,100))\n",
    "res=[]\n",
    "for i in l:\n",
    "    res.append((i**3)/4 or(i**3)/5)\n",
    "print(res)    "
   ]
  },
  {
   "cell_type": "code",
   "execution_count": null,
   "id": "b056f68a-3fe7-4a82-8464-39c3ba99eb85",
   "metadata": {},
   "outputs": [],
   "source": [
    "range(100)"
   ]
  },
  {
   "cell_type": "code",
   "execution_count": null,
   "id": "161d48bf-b38a-4c40-b384-cdd950da37a6",
   "metadata": {},
   "outputs": [],
   "source": [
    "Write a program to filter count vowels in the below-given string.\n",
    "string = \"I want to become a data scientist\""
   ]
  },
  {
   "cell_type": "code",
   "execution_count": 5,
   "id": "cb439cb3-bbc1-4d1f-b7d8-bed065e3ce59",
   "metadata": {},
   "outputs": [
    {
     "name": "stdout",
     "output_type": "stream",
     "text": [
      "Number of vowels are:\n",
      "12\n"
     ]
    }
   ],
   "source": [
    "string=\"I want to become a data scientist\"\n",
    "vowel=0\n",
    "for v in string:\n",
    "    if(v =='A' or v =='E' or v =='I' or v =='O' or v =='U' or v =='a' or v =='e' or v =='i' or v =='o' or v =='u'):\n",
    "        vowel=vowel+1 \n",
    "print(\"Number of vowels are:\")\n",
    "print(vowel)\n",
    "    "
   ]
  }
 ],
 "metadata": {
  "kernelspec": {
   "display_name": "Python 3 (ipykernel)",
   "language": "python",
   "name": "python3"
  },
  "language_info": {
   "codemirror_mode": {
    "name": "ipython",
    "version": 3
   },
   "file_extension": ".py",
   "mimetype": "text/x-python",
   "name": "python",
   "nbconvert_exporter": "python",
   "pygments_lexer": "ipython3",
   "version": "3.10.8"
  }
 },
 "nbformat": 4,
 "nbformat_minor": 5
}
